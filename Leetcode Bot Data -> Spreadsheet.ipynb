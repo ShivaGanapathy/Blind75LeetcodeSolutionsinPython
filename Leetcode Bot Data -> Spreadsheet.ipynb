{
 "cells": [
  {
   "cell_type": "code",
   "execution_count": 2,
   "metadata": {},
   "outputs": [],
   "source": [
    "row_list = []\n",
    "import csv\n",
    "with open('facebook.txt') as fp:\n",
    "    contents = fp.read()\n",
    "    items = contents.split(\"\\n\")\n",
    "    for item in items:\n",
    "        pivot = item.find(\"(\")\n",
    "        pivot_two = item.find(\":\")\n",
    "        name = item[0:pivot-1].strip()\n",
    "        quant = item[pivot+1:pivot+4].strip()\n",
    "        link = item[pivot_two+1:].strip()\n",
    "        row_list.append([name, link, quant])\n",
    "        \n",
    "with open('facebook.csv', 'w', newline='') as file:\n",
    "    writer = csv.writer(file)\n",
    "    writer.writerows(row_list)"
   ]
  },
  {
   "cell_type": "code",
   "execution_count": null,
   "metadata": {},
   "outputs": [],
   "source": []
  },
  {
   "cell_type": "code",
   "execution_count": null,
   "metadata": {},
   "outputs": [],
   "source": []
  }
 ],
 "metadata": {
  "kernelspec": {
   "display_name": "Python 3",
   "language": "python",
   "name": "python3"
  }
 },
 "nbformat": 4,
 "nbformat_minor": 2
}
